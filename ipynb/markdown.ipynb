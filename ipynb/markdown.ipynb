{
 "cells": [
  {
   "cell_type": "markdown",
   "metadata": {
    "pycharm": {},
    "toc": true
   },
   "source": [
    "<h1>Table of Contents<span class=\"tocSkip\"></span></h1>\n",
    "<div class=\"toc\"><ul class=\"toc-item\"><li><span><a href=\"#Heading1\" data-toc-modified-id=\"Heading1-1\"><span class=\"toc-item-num\">1&nbsp;&nbsp;</span>Heading1</a></span><ul class=\"toc-item\"><li><span><a href=\"#Heading2\" data-toc-modified-id=\"Heading2-1.1\"><span class=\"toc-item-num\">1.1&nbsp;&nbsp;</span>Heading2</a></span><ul class=\"toc-item\"><li><span><a href=\"#Heading3\" data-toc-modified-id=\"Heading3-1.1.1\"><span class=\"toc-item-num\">1.1.1&nbsp;&nbsp;</span>Heading3</a></span><ul class=\"toc-item\"><li><span><a href=\"#Heading4\" data-toc-modified-id=\"Heading4-1.1.1.1\"><span class=\"toc-item-num\">1.1.1.1&nbsp;&nbsp;</span>Heading4</a></span></li></ul></li></ul></li></ul></li></ul></div>"
   ]
  },
  {
   "cell_type": "markdown",
   "metadata": {},
   "source": [
    "---"
   ]
  },
  {
   "cell_type": "markdown",
   "metadata": {
    "pycharm": {}
   },
   "source": [
    "# Heading1\n",
    "## Heading2\n",
    "### Heading3\n",
    "#### Heading4"
   ]
  },
  {
   "cell_type": "markdown",
   "metadata": {},
   "source": [
    "---"
   ]
  },
  {
   "cell_type": "markdown",
   "metadata": {
    "pycharm": {}
   },
   "source": [
    "이거는 *글씨 기울이기* 그리고 이거는 **글씨 굵게하기** 이거는 `글씨를 칠하기`"
   ]
  },
  {
   "cell_type": "markdown",
   "metadata": {},
   "source": [
    "---"
   ]
  },
  {
   "cell_type": "markdown",
   "metadata": {
    "pycharm": {}
   },
   "source": [
    "외부 링크를 걸어보자\n",
    "https://www.naver.com/ 이렇게도 할 수 있지만 [네이버](https://www.naver.com/) 이렇게도 할 수 있다."
   ]
  },
  {
   "cell_type": "markdown",
   "metadata": {},
   "source": [
    "---"
   ]
  },
  {
   "cell_type": "markdown",
   "metadata": {
    "pycharm": {}
   },
   "source": [
    "이미지를 가져와보자 이미지는 느낌표를 붙여야한다 ![고양이](https://search.pstatic.net/common/?src=http%3A%2F%2Fpost.phinf.naver.net%2FMjAxNzA1MDRfMTQx%2FMDAxNDkzODg4ODcxNjgz.z4btPaGstH2fWnZblzKcy6GLtInIxpA7aX5XiflRgFMg.vZFPH2D1ewspOkjwpkA6w8M0Nvj7jJTUmJtsqGPJd3gg.PNG%2FIEJdx4U8WBQ4EDweMldQelV8mFm0.jpg&type=b400)"
   ]
  },
  {
   "cell_type": "markdown",
   "metadata": {},
   "source": [
    "---"
   ]
  },
  {
   "cell_type": "markdown",
   "metadata": {
    "pycharm": {}
   },
   "source": [
    "Index 만들기\n",
    "- 이렇게도 만들수 있고\n",
    "- 이렇게\n",
    "- 이렇게\n",
    "\n",
    "Index 만들기2\n",
    "1. 숫자도 가능\n",
    "2. 숫자도 가능\n",
    "3. 숫자도 가능"
   ]
  },
  {
   "cell_type": "markdown",
   "metadata": {},
   "source": [
    "---"
   ]
  },
  {
   "cell_type": "markdown",
   "metadata": {
    "pycharm": {}
   },
   "source": [
    "인용 문구 넣는 방법도 간단\n",
    "> 이렇게 하면 끝"
   ]
  },
  {
   "cell_type": "markdown",
   "metadata": {},
   "source": [
    "---"
   ]
  },
  {
   "cell_type": "markdown",
   "metadata": {
    "pycharm": {}
   },
   "source": [
    "Code Script를 Markdown에 넣어보자\n",
    "\n",
    "```python\n",
    "import pandas as pd\n",
    "import numpy as np \n",
    "\n",
    "print('Hello World')\n",
    "```"
   ]
  },
  {
   "cell_type": "markdown",
   "metadata": {},
   "source": [
    "---"
   ]
  },
  {
   "cell_type": "markdown",
   "metadata": {
    "pycharm": {}
   },
   "source": [
    "테이블도 만들어보자\n",
    "\n",
    "index | 변수1 | 변수2 | 변수3\n",
    "---|---|---|---\n",
    "1 | v1 | v2 | v3\n",
    "2 | v11 | v22 | v33"
   ]
  },
  {
   "cell_type": "markdown",
   "metadata": {},
   "source": [
    "---"
   ]
  },
  {
   "cell_type": "markdown",
   "metadata": {
    "pycharm": {}
   },
   "source": [
    "수학 수식 입력도 가능\n",
    "\n",
    "$$RMSE=\\sqrt {\\sum_{i} (Y_{i} - \\hat Y_{i})^2}$$"
   ]
  },
  {
   "cell_type": "markdown",
   "metadata": {},
   "source": [
    "---"
   ]
  },
  {
   "cell_type": "markdown",
   "metadata": {
    "pycharm": {}
   },
   "source": [
    "선을 나누는 것도 가능\n",
    "\n",
    "---\n",
    "\n",
    "이렇게\n",
    "\n",
    "---\n",
    "\n",
    "이렇게\n",
    "\n",
    "---"
   ]
  },
  {
   "cell_type": "markdown",
   "metadata": {},
   "source": [
    "---"
   ]
  },
  {
   "cell_type": "markdown",
   "metadata": {
    "pycharm": {}
   },
   "source": [
    "**마크다운에서 줄 바꾸는 법**\n",
    "\n",
    "문장 맨 뒤에 띄어쓰기 두번 하면 줄바뀜"
   ]
  },
  {
   "cell_type": "markdown",
   "metadata": {},
   "source": [
    "---"
   ]
  },
  {
   "cell_type": "markdown",
   "metadata": {
    "pycharm": {}
   },
   "source": [
    "**알면 유용한 단축키**\n",
    "\n",
    "ctrl + enter : 현재 cell 만 실행  \n",
    "shift + enter : 현재 cell 실행 후 다음으로 넘어가기  \n",
    "\n",
    "a : 위에 cell 추가   \n",
    "b : 아래 cell 추가  \n",
    "\n",
    "x : cell 잘라내기  \n",
    "c : cell 복사  \n",
    "v : 아래 cell 붙여넣기    \n",
    "shift + v : 위에 cell 붙여넣기  \n",
    "\n",
    "f : cell 내부에서 검색하기  \n",
    "- 수정도 가능  \n",
    " \n",
    "m : 현재 cell 마크다운으로 변경  \n",
    "y : 현재 cell 코드로 변경  \n",
    "\n",
    "1 : heading1  \n",
    "2 : heading2  \n",
    "3 : heading3  \n",
    "4 : heading4  \n",
    "\n",
    "\n",
    "그 외는 모두 h에서 확인  \n"
   ]
  }
 ],
 "metadata": {
  "hide_input": false,
  "kernelspec": {
   "display_name": "Python 3",
   "language": "python",
   "name": "python3"
  },
  "language_info": {
   "codemirror_mode": {
    "name": "ipython",
    "version": 3
   },
   "file_extension": ".py",
   "mimetype": "text/x-python",
   "name": "python",
   "nbconvert_exporter": "python",
   "pygments_lexer": "ipython3",
   "version": "3.7.3"
  },
  "toc": {
   "base_numbering": 1,
   "nav_menu": {},
   "number_sections": true,
   "sideBar": true,
   "skip_h1_title": false,
   "title_cell": "Table of Contents",
   "title_sidebar": "Contents",
   "toc_cell": true,
   "toc_position": {},
   "toc_section_display": true,
   "toc_window_display": false
  }
 },
 "nbformat": 4,
 "nbformat_minor": 2
}

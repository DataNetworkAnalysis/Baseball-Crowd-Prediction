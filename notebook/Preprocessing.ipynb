{
 "cells": [
  {
   "cell_type": "markdown",
   "metadata": {},
   "source": [
    "# Module"
   ]
  },
  {
   "cell_type": "code",
   "execution_count": 1,
   "metadata": {
    "ExecuteTime": {
     "end_time": "2019-08-18T14:34:40.378573Z",
     "start_time": "2019-08-18T14:34:39.786159Z"
    },
    "scrolled": true
   },
   "outputs": [],
   "source": [
    "# preprocessing\n",
    "import pandas as pd\n",
    "import numpy as np\n",
    "from datetime import datetime, timedelta\n",
    "\n",
    "# visualization\n",
    "import matplotlib.pyplot as plt\n",
    "plt.style.use('seaborn-whitegrid')\n",
    "\n",
    "# warnings\n",
    "import warnings \n",
    "warnings.filterwarnings(action='ignore')"
   ]
  },
  {
   "cell_type": "markdown",
   "metadata": {},
   "source": [
    "# Load data"
   ]
  },
  {
   "cell_type": "code",
   "execution_count": 2,
   "metadata": {
    "ExecuteTime": {
     "end_time": "2019-08-18T14:34:40.449369Z",
     "start_time": "2019-08-18T14:34:40.379545Z"
    }
   },
   "outputs": [
    {
     "name": "stdout",
     "output_type": "stream",
     "text": [
      "kbo size:  (2009, 6)\n",
      "statiz size:  (2144, 5)\n",
      "weather size:  (10549, 8)\n"
     ]
    }
   ],
   "source": [
    "kbo = pd.read_csv('../dataset/crowd_df.csv')\n",
    "statiz = pd.read_csv('../dataset/statiz_record.csv')\n",
    "weather = pd.read_csv('../dataset/weather.csv', encoding='cp949')\n",
    "print('kbo size: ',kbo.shape)\n",
    "print('statiz size: ',statiz.shape)\n",
    "print('weather size: ',weather.shape)"
   ]
  },
  {
   "cell_type": "markdown",
   "metadata": {},
   "source": [
    "## Game ID"
   ]
  },
  {
   "cell_type": "code",
   "execution_count": 3,
   "metadata": {
    "ExecuteTime": {
     "end_time": "2019-08-18T14:34:40.455342Z",
     "start_time": "2019-08-18T14:34:40.451353Z"
    }
   },
   "outputs": [],
   "source": [
    "kbo['game_id'] = np.arange(1,kbo.shape[0]+1)"
   ]
  },
  {
   "cell_type": "code",
   "execution_count": 4,
   "metadata": {
    "ExecuteTime": {
     "end_time": "2019-08-18T14:34:40.660054Z",
     "start_time": "2019-08-18T14:34:40.650081Z"
    }
   },
   "outputs": [
    {
     "data": {
      "text/html": [
       "<div>\n",
       "<style scoped>\n",
       "    .dataframe tbody tr th:only-of-type {\n",
       "        vertical-align: middle;\n",
       "    }\n",
       "\n",
       "    .dataframe tbody tr th {\n",
       "        vertical-align: top;\n",
       "    }\n",
       "\n",
       "    .dataframe thead th {\n",
       "        text-align: right;\n",
       "    }\n",
       "</style>\n",
       "<table border=\"1\" class=\"dataframe\">\n",
       "  <thead>\n",
       "    <tr style=\"text-align: right;\">\n",
       "      <th></th>\n",
       "      <th>날짜</th>\n",
       "      <th>요일</th>\n",
       "      <th>홈</th>\n",
       "      <th>방문</th>\n",
       "      <th>구장</th>\n",
       "      <th>관중수</th>\n",
       "      <th>game_id</th>\n",
       "    </tr>\n",
       "  </thead>\n",
       "  <tbody>\n",
       "    <tr>\n",
       "      <th>0</th>\n",
       "      <td>2017/03/31</td>\n",
       "      <td>금</td>\n",
       "      <td>두산</td>\n",
       "      <td>한화</td>\n",
       "      <td>잠실</td>\n",
       "      <td>21,121</td>\n",
       "      <td>1</td>\n",
       "    </tr>\n",
       "    <tr>\n",
       "      <th>1</th>\n",
       "      <td>2017/03/31</td>\n",
       "      <td>금</td>\n",
       "      <td>삼성</td>\n",
       "      <td>KIA</td>\n",
       "      <td>대구</td>\n",
       "      <td>13,505</td>\n",
       "      <td>2</td>\n",
       "    </tr>\n",
       "    <tr>\n",
       "      <th>2</th>\n",
       "      <td>2017/03/31</td>\n",
       "      <td>금</td>\n",
       "      <td>SK</td>\n",
       "      <td>KT</td>\n",
       "      <td>문학</td>\n",
       "      <td>13,649</td>\n",
       "      <td>3</td>\n",
       "    </tr>\n",
       "    <tr>\n",
       "      <th>3</th>\n",
       "      <td>2017/03/31</td>\n",
       "      <td>금</td>\n",
       "      <td>넥센</td>\n",
       "      <td>LG</td>\n",
       "      <td>고척</td>\n",
       "      <td>8,013</td>\n",
       "      <td>4</td>\n",
       "    </tr>\n",
       "    <tr>\n",
       "      <th>4</th>\n",
       "      <td>2017/03/31</td>\n",
       "      <td>금</td>\n",
       "      <td>NC</td>\n",
       "      <td>롯데</td>\n",
       "      <td>마산</td>\n",
       "      <td>11,000</td>\n",
       "      <td>5</td>\n",
       "    </tr>\n",
       "  </tbody>\n",
       "</table>\n",
       "</div>"
      ],
      "text/plain": [
       "           날짜 요일   홈   방문  구장     관중수  game_id\n",
       "0  2017/03/31  금  두산   한화  잠실  21,121        1\n",
       "1  2017/03/31  금  삼성  KIA  대구  13,505        2\n",
       "2  2017/03/31  금  SK   KT  문학  13,649        3\n",
       "3  2017/03/31  금  넥센   LG  고척   8,013        4\n",
       "4  2017/03/31  금  NC   롯데  마산  11,000        5"
      ]
     },
     "execution_count": 4,
     "metadata": {},
     "output_type": "execute_result"
    }
   ],
   "source": [
    "kbo.head()"
   ]
  },
  {
   "cell_type": "markdown",
   "metadata": {},
   "source": [
    "# information"
   ]
  },
  {
   "cell_type": "code",
   "execution_count": 5,
   "metadata": {
    "ExecuteTime": {
     "end_time": "2019-08-18T14:34:41.051297Z",
     "start_time": "2019-08-18T14:34:41.043319Z"
    }
   },
   "outputs": [
    {
     "name": "stdout",
     "output_type": "stream",
     "text": [
      "<class 'pandas.core.frame.DataFrame'>\n",
      "RangeIndex: 2009 entries, 0 to 2008\n",
      "Data columns (total 7 columns):\n",
      "날짜         2009 non-null object\n",
      "요일         2009 non-null object\n",
      "홈          2009 non-null object\n",
      "방문         2009 non-null object\n",
      "구장         2009 non-null object\n",
      "관중수        2009 non-null object\n",
      "game_id    2009 non-null int32\n",
      "dtypes: int32(1), object(6)\n",
      "memory usage: 102.1+ KB\n"
     ]
    }
   ],
   "source": [
    "kbo.info()"
   ]
  },
  {
   "cell_type": "code",
   "execution_count": 6,
   "metadata": {
    "ExecuteTime": {
     "end_time": "2019-08-18T14:34:41.234961Z",
     "start_time": "2019-08-18T14:34:41.227953Z"
    }
   },
   "outputs": [
    {
     "name": "stdout",
     "output_type": "stream",
     "text": [
      "<class 'pandas.core.frame.DataFrame'>\n",
      "RangeIndex: 2144 entries, 0 to 2143\n",
      "Data columns (total 5 columns):\n",
      "date          2144 non-null object\n",
      "away          2144 non-null object\n",
      "away_score    2144 non-null int64\n",
      "home_score    2144 non-null int64\n",
      "home          2144 non-null object\n",
      "dtypes: int64(2), object(3)\n",
      "memory usage: 83.8+ KB\n"
     ]
    }
   ],
   "source": [
    "statiz.info()"
   ]
  },
  {
   "cell_type": "code",
   "execution_count": 7,
   "metadata": {
    "ExecuteTime": {
     "end_time": "2019-08-18T14:34:41.434049Z",
     "start_time": "2019-08-18T14:34:41.425100Z"
    }
   },
   "outputs": [
    {
     "name": "stdout",
     "output_type": "stream",
     "text": [
      "<class 'pandas.core.frame.DataFrame'>\n",
      "RangeIndex: 10549 entries, 0 to 10548\n",
      "Data columns (total 8 columns):\n",
      "지점            10549 non-null int64\n",
      "일시            10549 non-null object\n",
      "평균기온(°C)      10548 non-null float64\n",
      "최저기온(°C)      10548 non-null float64\n",
      "최고기온(°C)      10546 non-null float64\n",
      "일강수량(mm)      3770 non-null float64\n",
      "평균 풍속(m/s)    10539 non-null float64\n",
      "평균 상대습도(%)    10549 non-null float64\n",
      "dtypes: float64(6), int64(1), object(1)\n",
      "memory usage: 659.4+ KB\n"
     ]
    }
   ],
   "source": [
    "weather.info()"
   ]
  },
  {
   "cell_type": "markdown",
   "metadata": {},
   "source": [
    "# Change Columns Name"
   ]
  },
  {
   "cell_type": "code",
   "execution_count": 8,
   "metadata": {
    "ExecuteTime": {
     "end_time": "2019-08-18T14:34:41.802091Z",
     "start_time": "2019-08-18T14:34:41.797078Z"
    }
   },
   "outputs": [],
   "source": [
    "kbo.columns = ['date','weeks','home','away','stadium','nb_crowd','game_id']\n",
    "weather.columns = ['region','date','avg_temp','min_temp','max_temp','rainfall','avg_windspeed','avg_relative_humid']"
   ]
  },
  {
   "cell_type": "code",
   "execution_count": 9,
   "metadata": {
    "ExecuteTime": {
     "end_time": "2019-08-18T14:34:42.311735Z",
     "start_time": "2019-08-18T14:34:42.307748Z"
    }
   },
   "outputs": [
    {
     "name": "stdout",
     "output_type": "stream",
     "text": [
      "Index(['date', 'weeks', 'home', 'away', 'stadium', 'nb_crowd', 'game_id'], dtype='object')\n"
     ]
    }
   ],
   "source": [
    "print(kbo.columns)"
   ]
  },
  {
   "cell_type": "code",
   "execution_count": 10,
   "metadata": {
    "ExecuteTime": {
     "end_time": "2019-08-18T14:34:42.638861Z",
     "start_time": "2019-08-18T14:34:42.634871Z"
    }
   },
   "outputs": [
    {
     "name": "stdout",
     "output_type": "stream",
     "text": [
      "Index(['region', 'date', 'avg_temp', 'min_temp', 'max_temp', 'rainfall',\n",
      "       'avg_windspeed', 'avg_relative_humid'],\n",
      "      dtype='object')\n"
     ]
    }
   ],
   "source": [
    "print(weather.columns)"
   ]
  },
  {
   "cell_type": "markdown",
   "metadata": {},
   "source": [
    "# Type Conversion"
   ]
  },
  {
   "cell_type": "code",
   "execution_count": 11,
   "metadata": {
    "ExecuteTime": {
     "end_time": "2019-08-18T14:34:42.997519Z",
     "start_time": "2019-08-18T14:34:42.993516Z"
    }
   },
   "outputs": [],
   "source": [
    "kbo.nb_crowd = kbo.nb_crowd.str.replace(',','').astype(int)"
   ]
  },
  {
   "cell_type": "markdown",
   "metadata": {},
   "source": [
    "## date"
   ]
  },
  {
   "cell_type": "code",
   "execution_count": 12,
   "metadata": {
    "ExecuteTime": {
     "end_time": "2019-08-18T14:34:43.455318Z",
     "start_time": "2019-08-18T14:34:43.443314Z"
    }
   },
   "outputs": [],
   "source": [
    "kbo.date = pd.to_datetime(kbo.date)\n",
    "statiz.date = pd.to_datetime(statiz.date)\n",
    "weather.date = pd.to_datetime(weather.date)"
   ]
  },
  {
   "cell_type": "markdown",
   "metadata": {},
   "source": [
    "## region"
   ]
  },
  {
   "cell_type": "code",
   "execution_count": 13,
   "metadata": {
    "ExecuteTime": {
     "end_time": "2019-08-18T14:34:43.843516Z",
     "start_time": "2019-08-18T14:34:43.836534Z"
    }
   },
   "outputs": [
    {
     "data": {
      "text/plain": [
       "array(['Seoul', 'Incheon', 'Suwon', 'Chungju', 'Daejeon', 'Pohang',\n",
       "       'Daegu', 'Ulsan', 'Changwon', 'Gwangju', 'Busan'], dtype=object)"
      ]
     },
     "execution_count": 13,
     "metadata": {},
     "output_type": "execute_result"
    }
   ],
   "source": [
    "region_code = {108:'Seoul', 112:'Incheon', 119:'Suwon', 131:'Chungju', 133:'Daejeon',\n",
    "              138:'Pohang', 143:'Daegu', 152:'Ulsan', 155:'Changwon', 156:'Gwangju', 159:'Busan'}\n",
    "weather.region = weather.region.map(region_code)\n",
    "weather.region.unique()"
   ]
  },
  {
   "cell_type": "markdown",
   "metadata": {},
   "source": [
    "## team name\n",
    "넥센은 올해부터 이름이 키움으로 바꼈기 때문에 키움 이름을 넥센으로 변경한다"
   ]
  },
  {
   "cell_type": "code",
   "execution_count": 14,
   "metadata": {
    "ExecuteTime": {
     "end_time": "2019-08-18T14:34:44.194239Z",
     "start_time": "2019-08-18T14:34:44.185263Z"
    }
   },
   "outputs": [],
   "source": [
    "team_name = {'두산':'DOOSAN', '삼성':'SAMSUNG', '넥센':'NEXEN', '한화':'HANHWA', '롯데':'LOTTE',\n",
    "            '키움':'NEXEN', 'SK':'SK', 'NC':'NC', 'KT':'KT', 'KIA':'KIA', 'LG':'LG'}\n",
    "\n",
    "statiz['away'] = statiz.away.apply(lambda x: 'KT' if x == 'kt' else x)\n",
    "statiz['home'] = statiz.home.apply(lambda x: 'KT' if x == 'kt' else x)\n",
    "\n",
    "team_name['드림']  = 'DREAM'\n",
    "team_name['서군'] = 'SEOGUN'\n",
    "statiz['away'] = statiz.away.map(team_name)\n",
    "statiz['home'] = statiz.home.map(team_name)\n",
    "kbo['home'] = kbo.home.map(team_name)\n",
    "kbo['away'] = kbo.away.map(team_name)"
   ]
  },
  {
   "cell_type": "markdown",
   "metadata": {},
   "source": [
    "## stadium"
   ]
  },
  {
   "cell_type": "code",
   "execution_count": 15,
   "metadata": {
    "ExecuteTime": {
     "end_time": "2019-08-18T14:34:44.613254Z",
     "start_time": "2019-08-18T14:34:44.608232Z"
    }
   },
   "outputs": [
    {
     "data": {
      "text/plain": [
       "array(['잠실', '대구', '문학', '고척', '마산', '대전', '수원', '광주', '사직', '울산', '포항',\n",
       "       '청주', '창원'], dtype=object)"
      ]
     },
     "execution_count": 15,
     "metadata": {},
     "output_type": "execute_result"
    }
   ],
   "source": [
    "kbo.stadium.unique()"
   ]
  },
  {
   "cell_type": "code",
   "execution_count": 16,
   "metadata": {
    "ExecuteTime": {
     "end_time": "2019-08-18T14:34:44.800725Z",
     "start_time": "2019-08-18T14:34:44.796728Z"
    }
   },
   "outputs": [],
   "source": [
    "stadium = ['Jamsil', 'Daegu', 'Munhak', 'Gocheok','Masan','Daejeon','Suwon',\n",
    "           'Gwangju','Sajik','Ulsan','Pohang','Chungju','Changwon']\n",
    "stadium = dict(zip(kbo.stadium.unique(), stadium))\n",
    "kbo['stadium'] = kbo.stadium.map(stadium)"
   ]
  },
  {
   "cell_type": "markdown",
   "metadata": {},
   "source": [
    "## weeks"
   ]
  },
  {
   "cell_type": "code",
   "execution_count": 17,
   "metadata": {
    "ExecuteTime": {
     "end_time": "2019-08-18T14:34:45.152823Z",
     "start_time": "2019-08-18T14:34:45.138854Z"
    }
   },
   "outputs": [],
   "source": [
    "kbo.weeks = kbo.date.apply(lambda x: x.strftime('%A'))"
   ]
  },
  {
   "cell_type": "markdown",
   "metadata": {},
   "source": [
    "## year, month, day"
   ]
  },
  {
   "cell_type": "code",
   "execution_count": 18,
   "metadata": {
    "ExecuteTime": {
     "end_time": "2019-08-18T14:34:45.519759Z",
     "start_time": "2019-08-18T14:34:45.513749Z"
    }
   },
   "outputs": [],
   "source": [
    "kbo['year'] = kbo.date.dt.year\n",
    "kbo['month'] = kbo.date.dt.month\n",
    "kbo['day'] = kbo.date.dt.day"
   ]
  },
  {
   "cell_type": "markdown",
   "metadata": {},
   "source": [
    "# Missing Value"
   ]
  },
  {
   "cell_type": "markdown",
   "metadata": {},
   "source": [
    "## weather rainfall"
   ]
  },
  {
   "cell_type": "code",
   "execution_count": 19,
   "metadata": {
    "ExecuteTime": {
     "end_time": "2019-08-18T14:34:46.117642Z",
     "start_time": "2019-08-18T14:34:46.110661Z"
    }
   },
   "outputs": [],
   "source": [
    "weather.loc[weather.avg_windspeed.isnull(), 'avg_windspeed'] = 0\n",
    "weather.loc[weather.rainfall.isnull(), 'rainfall'] = 0"
   ]
  },
  {
   "cell_type": "markdown",
   "metadata": {},
   "source": [
    "## weather avg_temp\n",
    "- 평균기온의 결측값은 최저기온과 최대기온은 평균으로 대체한다"
   ]
  },
  {
   "cell_type": "code",
   "execution_count": 20,
   "metadata": {
    "ExecuteTime": {
     "end_time": "2019-08-18T14:34:46.986318Z",
     "start_time": "2019-08-18T14:34:46.977343Z"
    }
   },
   "outputs": [
    {
     "data": {
      "text/html": [
       "<div>\n",
       "<style scoped>\n",
       "    .dataframe tbody tr th:only-of-type {\n",
       "        vertical-align: middle;\n",
       "    }\n",
       "\n",
       "    .dataframe tbody tr th {\n",
       "        vertical-align: top;\n",
       "    }\n",
       "\n",
       "    .dataframe thead th {\n",
       "        text-align: right;\n",
       "    }\n",
       "</style>\n",
       "<table border=\"1\" class=\"dataframe\">\n",
       "  <thead>\n",
       "    <tr style=\"text-align: right;\">\n",
       "      <th></th>\n",
       "      <th>region</th>\n",
       "      <th>date</th>\n",
       "      <th>avg_temp</th>\n",
       "      <th>min_temp</th>\n",
       "      <th>max_temp</th>\n",
       "      <th>rainfall</th>\n",
       "      <th>avg_windspeed</th>\n",
       "      <th>avg_relative_humid</th>\n",
       "    </tr>\n",
       "  </thead>\n",
       "  <tbody>\n",
       "    <tr>\n",
       "      <th>5963</th>\n",
       "      <td>Daegu</td>\n",
       "      <td>2017-07-29</td>\n",
       "      <td>NaN</td>\n",
       "      <td>21.5</td>\n",
       "      <td>26.2</td>\n",
       "      <td>30.0</td>\n",
       "      <td>3.1</td>\n",
       "      <td>91.3</td>\n",
       "    </tr>\n",
       "  </tbody>\n",
       "</table>\n",
       "</div>"
      ],
      "text/plain": [
       "     region       date  avg_temp  min_temp  max_temp  rainfall  avg_windspeed  \\\n",
       "5963  Daegu 2017-07-29       NaN      21.5      26.2      30.0            3.1   \n",
       "\n",
       "      avg_relative_humid  \n",
       "5963                91.3  "
      ]
     },
     "execution_count": 20,
     "metadata": {},
     "output_type": "execute_result"
    }
   ],
   "source": [
    "weather[weather.avg_temp.isnull()]"
   ]
  },
  {
   "cell_type": "code",
   "execution_count": 21,
   "metadata": {
    "ExecuteTime": {
     "end_time": "2019-08-18T14:34:47.742306Z",
     "start_time": "2019-08-18T14:34:47.735324Z"
    },
    "scrolled": false
   },
   "outputs": [],
   "source": [
    "weather.loc[weather.avg_temp.isnull(), 'avg_temp'] = weather.loc[weather.avg_temp.isnull(), ['min_temp','max_temp']].mean(axis=1)"
   ]
  },
  {
   "cell_type": "code",
   "execution_count": 22,
   "metadata": {
    "ExecuteTime": {
     "end_time": "2019-08-18T14:34:48.486315Z",
     "start_time": "2019-08-18T14:34:48.185122Z"
    }
   },
   "outputs": [
    {
     "data": {
      "text/plain": [
       "<matplotlib.axes._subplots.AxesSubplot at 0x20430610630>"
      ]
     },
     "execution_count": 22,
     "metadata": {},
     "output_type": "execute_result"
    },
    {
     "data": {
      "image/png": "[encoded data removed]",
      "text/plain": [
       "<Figure size 1080x432 with 1 Axes>"
      ]
     },
     "metadata": {
      "needs_background": "light"
     },
     "output_type": "display_data"
    }
   ],
   "source": [
    "temp = weather.loc[weather.region == 'Daegu', ['date','avg_temp']].copy()\n",
    "temp['avg_temp_hat'] = weather.loc[weather.region=='Daegu', ['min_temp', 'max_temp']].mean(axis=1)\n",
    "temp = temp.set_index('date')\n",
    "temp.plot(legend=True, figsize=(15,6))"
   ]
  },
  {
   "cell_type": "markdown",
   "metadata": {},
   "source": [
    "## weather max_temp\n",
    "- 최대기온의 결측값은 평균기온 + (평균기온 - 최저기온) 으로 한다."
   ]
  },
  {
   "cell_type": "code",
   "execution_count": 23,
   "metadata": {
    "ExecuteTime": {
     "end_time": "2019-08-18T14:34:49.112850Z",
     "start_time": "2019-08-18T14:34:49.102877Z"
    }
   },
   "outputs": [
    {
     "data": {
      "text/html": [
       "<div>\n",
       "<style scoped>\n",
       "    .dataframe tbody tr th:only-of-type {\n",
       "        vertical-align: middle;\n",
       "    }\n",
       "\n",
       "    .dataframe tbody tr th {\n",
       "        vertical-align: top;\n",
       "    }\n",
       "\n",
       "    .dataframe thead th {\n",
       "        text-align: right;\n",
       "    }\n",
       "</style>\n",
       "<table border=\"1\" class=\"dataframe\">\n",
       "  <thead>\n",
       "    <tr style=\"text-align: right;\">\n",
       "      <th></th>\n",
       "      <th>region</th>\n",
       "      <th>date</th>\n",
       "      <th>avg_temp</th>\n",
       "      <th>min_temp</th>\n",
       "      <th>max_temp</th>\n",
       "      <th>rainfall</th>\n",
       "      <th>avg_windspeed</th>\n",
       "      <th>avg_relative_humid</th>\n",
       "    </tr>\n",
       "  </thead>\n",
       "  <tbody>\n",
       "    <tr>\n",
       "      <th>284</th>\n",
       "      <td>Seoul</td>\n",
       "      <td>2017-10-12</td>\n",
       "      <td>11.4</td>\n",
       "      <td>8.8</td>\n",
       "      <td>NaN</td>\n",
       "      <td>0.0</td>\n",
       "      <td>2.0</td>\n",
       "      <td>71.0</td>\n",
       "    </tr>\n",
       "    <tr>\n",
       "      <th>2850</th>\n",
       "      <td>Suwon</td>\n",
       "      <td>2019-07-22</td>\n",
       "      <td>27.0</td>\n",
       "      <td>24.3</td>\n",
       "      <td>NaN</td>\n",
       "      <td>0.0</td>\n",
       "      <td>0.0</td>\n",
       "      <td>80.8</td>\n",
       "    </tr>\n",
       "    <tr>\n",
       "      <th>2851</th>\n",
       "      <td>Suwon</td>\n",
       "      <td>2019-07-23</td>\n",
       "      <td>28.3</td>\n",
       "      <td>NaN</td>\n",
       "      <td>NaN</td>\n",
       "      <td>0.0</td>\n",
       "      <td>0.0</td>\n",
       "      <td>76.9</td>\n",
       "    </tr>\n",
       "  </tbody>\n",
       "</table>\n",
       "</div>"
      ],
      "text/plain": [
       "     region       date  avg_temp  min_temp  max_temp  rainfall  avg_windspeed  \\\n",
       "284   Seoul 2017-10-12      11.4       8.8       NaN       0.0            2.0   \n",
       "2850  Suwon 2019-07-22      27.0      24.3       NaN       0.0            0.0   \n",
       "2851  Suwon 2019-07-23      28.3       NaN       NaN       0.0            0.0   \n",
       "\n",
       "      avg_relative_humid  \n",
       "284                 71.0  \n",
       "2850                80.8  \n",
       "2851                76.9  "
      ]
     },
     "execution_count": 23,
     "metadata": {},
     "output_type": "execute_result"
    }
   ],
   "source": [
    "weather[weather.max_temp.isnull()]"
   ]
  },
  {
   "cell_type": "code",
   "execution_count": 24,
   "metadata": {
    "ExecuteTime": {
     "end_time": "2019-08-18T14:34:49.386631Z",
     "start_time": "2019-08-18T14:34:49.360707Z"
    },
    "scrolled": true
   },
   "outputs": [],
   "source": [
    "null_avg_temp = weather.loc[weather.max_temp.isnull(), 'avg_temp']\n",
    "null_min_temp = weather.loc[weather.max_temp.isnull(), 'min_temp']\n",
    "weather.loc[weather.max_temp.isnull(), 'max_temp'] = null_avg_temp + (null_avg_temp - null_min_temp)"
   ]
  },
  {
   "cell_type": "code",
   "execution_count": 25,
   "metadata": {
    "ExecuteTime": {
     "end_time": "2019-08-18T14:34:49.619028Z",
     "start_time": "2019-08-18T14:34:49.615014Z"
    }
   },
   "outputs": [],
   "source": [
    "weather = weather.fillna(method='ffill')"
   ]
  },
  {
   "cell_type": "markdown",
   "metadata": {},
   "source": [
    "# Table Join"
   ]
  },
  {
   "cell_type": "code",
   "execution_count": 28,
   "metadata": {
    "ExecuteTime": {
     "end_time": "2019-08-18T14:36:11.130978Z",
     "start_time": "2019-08-18T14:36:11.122029Z"
    }
   },
   "outputs": [
    {
     "data": {
      "text/html": [
       "<div>\n",
       "<style scoped>\n",
       "    .dataframe tbody tr th:only-of-type {\n",
       "        vertical-align: middle;\n",
       "    }\n",
       "\n",
       "    .dataframe tbody tr th {\n",
       "        vertical-align: top;\n",
       "    }\n",
       "\n",
       "    .dataframe thead th {\n",
       "        text-align: right;\n",
       "    }\n",
       "</style>\n",
       "<table border=\"1\" class=\"dataframe\">\n",
       "  <thead>\n",
       "    <tr style=\"text-align: right;\">\n",
       "      <th></th>\n",
       "      <th>date</th>\n",
       "      <th>weeks</th>\n",
       "      <th>home</th>\n",
       "      <th>away</th>\n",
       "      <th>stadium</th>\n",
       "      <th>nb_crowd</th>\n",
       "      <th>game_id</th>\n",
       "      <th>year</th>\n",
       "      <th>month</th>\n",
       "      <th>day</th>\n",
       "    </tr>\n",
       "  </thead>\n",
       "  <tbody>\n",
       "    <tr>\n",
       "      <th>0</th>\n",
       "      <td>2017-03-31</td>\n",
       "      <td>Friday</td>\n",
       "      <td>DOOSAN</td>\n",
       "      <td>HANHWA</td>\n",
       "      <td>Jamsil</td>\n",
       "      <td>21121</td>\n",
       "      <td>1</td>\n",
       "      <td>2017</td>\n",
       "      <td>3</td>\n",
       "      <td>31</td>\n",
       "    </tr>\n",
       "    <tr>\n",
       "      <th>1</th>\n",
       "      <td>2017-03-31</td>\n",
       "      <td>Friday</td>\n",
       "      <td>SAMSUNG</td>\n",
       "      <td>KIA</td>\n",
       "      <td>Daegu</td>\n",
       "      <td>13505</td>\n",
       "      <td>2</td>\n",
       "      <td>2017</td>\n",
       "      <td>3</td>\n",
       "      <td>31</td>\n",
       "    </tr>\n",
       "    <tr>\n",
       "      <th>2</th>\n",
       "      <td>2017-03-31</td>\n",
       "      <td>Friday</td>\n",
       "      <td>SK</td>\n",
       "      <td>KT</td>\n",
       "      <td>Munhak</td>\n",
       "      <td>13649</td>\n",
       "      <td>3</td>\n",
       "      <td>2017</td>\n",
       "      <td>3</td>\n",
       "      <td>31</td>\n",
       "    </tr>\n",
       "    <tr>\n",
       "      <th>3</th>\n",
       "      <td>2017-03-31</td>\n",
       "      <td>Friday</td>\n",
       "      <td>NEXEN</td>\n",
       "      <td>LG</td>\n",
       "      <td>Gocheok</td>\n",
       "      <td>8013</td>\n",
       "      <td>4</td>\n",
       "      <td>2017</td>\n",
       "      <td>3</td>\n",
       "      <td>31</td>\n",
       "    </tr>\n",
       "    <tr>\n",
       "      <th>4</th>\n",
       "      <td>2017-03-31</td>\n",
       "      <td>Friday</td>\n",
       "      <td>NC</td>\n",
       "      <td>LOTTE</td>\n",
       "      <td>Masan</td>\n",
       "      <td>11000</td>\n",
       "      <td>5</td>\n",
       "      <td>2017</td>\n",
       "      <td>3</td>\n",
       "      <td>31</td>\n",
       "    </tr>\n",
       "  </tbody>\n",
       "</table>\n",
       "</div>"
      ],
      "text/plain": [
       "        date   weeks     home    away  stadium  nb_crowd  game_id  year  \\\n",
       "0 2017-03-31  Friday   DOOSAN  HANHWA   Jamsil     21121        1  2017   \n",
       "1 2017-03-31  Friday  SAMSUNG     KIA    Daegu     13505        2  2017   \n",
       "2 2017-03-31  Friday       SK      KT   Munhak     13649        3  2017   \n",
       "3 2017-03-31  Friday    NEXEN      LG  Gocheok      8013        4  2017   \n",
       "4 2017-03-31  Friday       NC   LOTTE    Masan     11000        5  2017   \n",
       "\n",
       "   month  day  \n",
       "0      3   31  \n",
       "1      3   31  \n",
       "2      3   31  \n",
       "3      3   31  \n",
       "4      3   31  "
      ]
     },
     "execution_count": 28,
     "metadata": {},
     "output_type": "execute_result"
    }
   ],
   "source": [
    "kbo.head()"
   ]
  },
  {
   "cell_type": "code",
   "execution_count": 29,
   "metadata": {
    "ExecuteTime": {
     "end_time": "2019-08-18T14:36:11.312499Z",
     "start_time": "2019-08-18T14:36:11.306536Z"
    }
   },
   "outputs": [
    {
     "data": {
      "text/html": [
       "<div>\n",
       "<style scoped>\n",
       "    .dataframe tbody tr th:only-of-type {\n",
       "        vertical-align: middle;\n",
       "    }\n",
       "\n",
       "    .dataframe tbody tr th {\n",
       "        vertical-align: top;\n",
       "    }\n",
       "\n",
       "    .dataframe thead th {\n",
       "        text-align: right;\n",
       "    }\n",
       "</style>\n",
       "<table border=\"1\" class=\"dataframe\">\n",
       "  <thead>\n",
       "    <tr style=\"text-align: right;\">\n",
       "      <th></th>\n",
       "      <th>date</th>\n",
       "      <th>away</th>\n",
       "      <th>away_score</th>\n",
       "      <th>home_score</th>\n",
       "      <th>home</th>\n",
       "    </tr>\n",
       "  </thead>\n",
       "  <tbody>\n",
       "    <tr>\n",
       "      <th>0</th>\n",
       "      <td>2017-03-31</td>\n",
       "      <td>LG</td>\n",
       "      <td>2</td>\n",
       "      <td>1</td>\n",
       "      <td>NEXEN</td>\n",
       "    </tr>\n",
       "    <tr>\n",
       "      <th>1</th>\n",
       "      <td>2017-03-31</td>\n",
       "      <td>KIA</td>\n",
       "      <td>7</td>\n",
       "      <td>2</td>\n",
       "      <td>SAMSUNG</td>\n",
       "    </tr>\n",
       "    <tr>\n",
       "      <th>2</th>\n",
       "      <td>2017-03-31</td>\n",
       "      <td>LOTTE</td>\n",
       "      <td>5</td>\n",
       "      <td>6</td>\n",
       "      <td>NC</td>\n",
       "    </tr>\n",
       "    <tr>\n",
       "      <th>3</th>\n",
       "      <td>2017-03-31</td>\n",
       "      <td>KT</td>\n",
       "      <td>3</td>\n",
       "      <td>2</td>\n",
       "      <td>SK</td>\n",
       "    </tr>\n",
       "    <tr>\n",
       "      <th>4</th>\n",
       "      <td>2017-03-31</td>\n",
       "      <td>HANHWA</td>\n",
       "      <td>0</td>\n",
       "      <td>3</td>\n",
       "      <td>DOOSAN</td>\n",
       "    </tr>\n",
       "  </tbody>\n",
       "</table>\n",
       "</div>"
      ],
      "text/plain": [
       "        date    away  away_score  home_score     home\n",
       "0 2017-03-31      LG           2           1    NEXEN\n",
       "1 2017-03-31     KIA           7           2  SAMSUNG\n",
       "2 2017-03-31   LOTTE           5           6       NC\n",
       "3 2017-03-31      KT           3           2       SK\n",
       "4 2017-03-31  HANHWA           0           3   DOOSAN"
      ]
     },
     "execution_count": 29,
     "metadata": {},
     "output_type": "execute_result"
    }
   ],
   "source": [
    "statiz.head()"
   ]
  },
  {
   "cell_type": "markdown",
   "metadata": {},
   "source": [
    "## statiz"
   ]
  },
  {
   "cell_type": "code",
   "execution_count": 30,
   "metadata": {
    "ExecuteTime": {
     "end_time": "2019-08-18T14:36:11.706621Z",
     "start_time": "2019-08-18T14:36:11.700609Z"
    }
   },
   "outputs": [],
   "source": [
    "kbo = pd.merge(kbo, statiz, on=['date','home','away'], how='left')"
   ]
  },
  {
   "cell_type": "code",
   "execution_count": 31,
   "metadata": {
    "ExecuteTime": {
     "end_time": "2019-08-18T14:36:11.926708Z",
     "start_time": "2019-08-18T14:36:11.922717Z"
    }
   },
   "outputs": [],
   "source": [
    "map_region = ['Seoul', 'Daegu','Incheon', 'Seoul','Busan',\n",
    "              'Daejeon','Suwon','Gwangju','Busan','Ulsan',\n",
    "              'Pohang','Chungju','Changwon']\n",
    "kbo['region'] = kbo.stadium.map(dict(zip(kbo.stadium.unique(), map_region)))"
   ]
  },
  {
   "cell_type": "markdown",
   "metadata": {},
   "source": [
    "## weather"
   ]
  },
  {
   "cell_type": "markdown",
   "metadata": {},
   "source": [
    "### Time Lag"
   ]
  },
  {
   "cell_type": "code",
   "execution_count": 32,
   "metadata": {
    "ExecuteTime": {
     "end_time": "2019-08-18T14:36:12.704092Z",
     "start_time": "2019-08-18T14:36:12.700076Z"
    }
   },
   "outputs": [],
   "source": [
    "weather = weather.set_index('date')"
   ]
  },
  {
   "cell_type": "code",
   "execution_count": 33,
   "metadata": {
    "ExecuteTime": {
     "end_time": "2019-08-18T14:36:12.968470Z",
     "start_time": "2019-08-18T14:36:12.942468Z"
    }
   },
   "outputs": [],
   "source": [
    "lag = 1\n",
    "lag_features = ['avg_temp', 'min_temp', 'max_temp', 'rainfall',\n",
    "               'avg_windspeed', 'avg_relative_humid']\n",
    "regions = weather.region.unique()\n",
    "weather_lag = pd.DataFrame()\n",
    "\n",
    "for region in regions:\n",
    "    weather_by_region = weather[weather.region==region]\n",
    "    weather_by_region.index = weather_by_region.index + timedelta(lag)\n",
    "    weather_lag = pd.concat([weather_lag, weather_by_region], axis=0)"
   ]
  },
  {
   "cell_type": "code",
   "execution_count": 34,
   "metadata": {
    "ExecuteTime": {
     "end_time": "2019-08-18T14:36:13.163862Z",
     "start_time": "2019-08-18T14:36:13.154868Z"
    }
   },
   "outputs": [],
   "source": [
    "kbo_weather = pd.merge(kbo, weather.reset_index(), on=['date','region'], how='left').copy()\n",
    "kbo_weather = kbo_weather.set_index('date')"
   ]
  },
  {
   "cell_type": "markdown",
   "metadata": {},
   "source": [
    "# Features Engineering"
   ]
  },
  {
   "cell_type": "markdown",
   "metadata": {},
   "source": [
    "## weekend_is"
   ]
  },
  {
   "cell_type": "code",
   "execution_count": 35,
   "metadata": {
    "ExecuteTime": {
     "end_time": "2019-08-18T14:36:13.987943Z",
     "start_time": "2019-08-18T14:36:13.982929Z"
    }
   },
   "outputs": [
    {
     "data": {
      "text/plain": [
       "array(['Friday', 'Saturday', 'Sunday', 'Tuesday', 'Thursday', 'Wednesday',\n",
       "       'Monday'], dtype=object)"
      ]
     },
     "execution_count": 35,
     "metadata": {},
     "output_type": "execute_result"
    }
   ],
   "source": [
    "kbo_weather.weeks.unique()"
   ]
  },
  {
   "cell_type": "code",
   "execution_count": 36,
   "metadata": {
    "ExecuteTime": {
     "end_time": "2019-08-18T14:36:14.262181Z",
     "start_time": "2019-08-18T14:36:14.256197Z"
    }
   },
   "outputs": [],
   "source": [
    "kbo_weather['weekend_is'] = kbo_weather.weeks.apply(lambda x: 1 if x in ['Sunday','Saturday'] else 0)"
   ]
  },
  {
   "cell_type": "markdown",
   "metadata": {},
   "source": [
    "## Win Percentage"
   ]
  },
  {
   "cell_type": "code",
   "execution_count": 37,
   "metadata": {
    "ExecuteTime": {
     "end_time": "2019-08-18T14:36:15.883874Z",
     "start_time": "2019-08-18T14:36:14.748879Z"
    }
   },
   "outputs": [],
   "source": [
    "teams = kbo_weather.home.unique()\n",
    "for team in teams:\n",
    "    # team 별 데이터 추출\n",
    "    team_home = kbo_weather[kbo_weather.home.isin([team])]\n",
    "    team_away = kbo_weather[kbo_weather.away.isin([team])]\n",
    "    # 해당팀이 home에 속한 경우 home_score가 away_score보다 높으면 1 아니면 0\n",
    "    # 해당팀이 away에 속한 경우 home_score가 away_score보다 높으면 0 아니면 1\n",
    "    team_home['win'] = team_home.apply(lambda x: 1 if x.home_score - x.away_score > 0 else 0, axis=1)\n",
    "    team_away['win'] = team_away.apply(lambda x: 0 if x.home_score - x.away_score > 0 else 1, axis=1)\n",
    "    # home과 away에 나눠진 team 이름을 team이라는 columns으로 합침\n",
    "    team_home['team'] = team_home.home\n",
    "    team_away['team'] = team_away.away\n",
    "    \n",
    "    team_df = pd.concat([team_home, team_away], axis=0).sort_values(by='date')\n",
    "    \n",
    "    years = team_df.year.unique()\n",
    "    # 승률(win percentage) = 누적합(cumlate sum) / 누적수(comulate count)\n",
    "    for y in years:\n",
    "        cum_win = np.round(team_df.loc[team_df.year==y, 'win'].cumsum() / (team_df.loc[team_df.year==y].groupby('team').cumcount()+1), 3)\n",
    "        cum_win.iloc[1:] = cum_win.iloc[:-1].values\n",
    "        cum_win.iloc[0] = 0\n",
    "        team_df.loc[team_df.year==y, 'win_percentage'] = cum_win\n",
    "    # 해당팀이 home에 속하는 경우 win_percentage를 home_win으로 away에 속하는 경우 away_win으로 대체\n",
    "    home_win_pct = team_df[team_df.home==team].win_percentage\n",
    "    away_win_pct = team_df[team_df.away==team].win_percentage\n",
    "    home_condition = kbo_weather.game_id.isin(team_df.game_id)&(kbo_weather.home==team)\n",
    "    away_condition = kbo_weather.game_id.isin(team_df.game_id)&(kbo_weather.away==team)\n",
    "    kbo_weather.loc[home_condition, 'home_win'] = home_win_pct\n",
    "    kbo_weather.loc[away_condition, 'away_win'] = away_win_pct"
   ]
  },
  {
   "cell_type": "markdown",
   "metadata": {},
   "source": [
    "# Feature Selection"
   ]
  },
  {
   "cell_type": "code",
   "execution_count": 38,
   "metadata": {
    "ExecuteTime": {
     "end_time": "2019-08-18T14:36:15.890855Z",
     "start_time": "2019-08-18T14:36:15.884878Z"
    }
   },
   "outputs": [],
   "source": [
    "features = ['game_id', 'weeks', 'region', 'stadium', 'home', 'home_win', 'away', 'away_win', 'weekend_is',\n",
    "           'avg_temp', 'min_temp', 'max_temp', 'rainfall', 'avg_windspeed', 'avg_relative_humid', 'nb_crowd']\n",
    "kbo_weather = kbo_weather[features]"
   ]
  },
  {
   "cell_type": "code",
   "execution_count": 39,
   "metadata": {
    "ExecuteTime": {
     "end_time": "2019-08-18T14:36:16.040571Z",
     "start_time": "2019-08-18T14:36:16.027579Z"
    }
   },
   "outputs": [
    {
     "data": {
      "text/html": [
       "<div>\n",
       "<style scoped>\n",
       "    .dataframe tbody tr th:only-of-type {\n",
       "        vertical-align: middle;\n",
       "    }\n",
       "\n",
       "    .dataframe tbody tr th {\n",
       "        vertical-align: top;\n",
       "    }\n",
       "\n",
       "    .dataframe thead th {\n",
       "        text-align: right;\n",
       "    }\n",
       "</style>\n",
       "<table border=\"1\" class=\"dataframe\">\n",
       "  <thead>\n",
       "    <tr style=\"text-align: right;\">\n",
       "      <th></th>\n",
       "      <th>game_id</th>\n",
       "      <th>weeks</th>\n",
       "      <th>region</th>\n",
       "      <th>stadium</th>\n",
       "      <th>home</th>\n",
       "      <th>home_win</th>\n",
       "      <th>away</th>\n",
       "      <th>away_win</th>\n",
       "      <th>weekend_is</th>\n",
       "      <th>avg_temp</th>\n",
       "      <th>min_temp</th>\n",
       "      <th>max_temp</th>\n",
       "      <th>rainfall</th>\n",
       "      <th>avg_windspeed</th>\n",
       "      <th>avg_relative_humid</th>\n",
       "      <th>nb_crowd</th>\n",
       "    </tr>\n",
       "    <tr>\n",
       "      <th>date</th>\n",
       "      <th></th>\n",
       "      <th></th>\n",
       "      <th></th>\n",
       "      <th></th>\n",
       "      <th></th>\n",
       "      <th></th>\n",
       "      <th></th>\n",
       "      <th></th>\n",
       "      <th></th>\n",
       "      <th></th>\n",
       "      <th></th>\n",
       "      <th></th>\n",
       "      <th></th>\n",
       "      <th></th>\n",
       "      <th></th>\n",
       "      <th></th>\n",
       "    </tr>\n",
       "  </thead>\n",
       "  <tbody>\n",
       "    <tr>\n",
       "      <th>2019-08-18</th>\n",
       "      <td>2005</td>\n",
       "      <td>Sunday</td>\n",
       "      <td>Seoul</td>\n",
       "      <td>Gocheok</td>\n",
       "      <td>NEXEN</td>\n",
       "      <td>0.578</td>\n",
       "      <td>HANHWA</td>\n",
       "      <td>0.381</td>\n",
       "      <td>1</td>\n",
       "      <td>NaN</td>\n",
       "      <td>NaN</td>\n",
       "      <td>NaN</td>\n",
       "      <td>NaN</td>\n",
       "      <td>NaN</td>\n",
       "      <td>NaN</td>\n",
       "      <td>6148</td>\n",
       "    </tr>\n",
       "    <tr>\n",
       "      <th>2019-08-18</th>\n",
       "      <td>2006</td>\n",
       "      <td>Sunday</td>\n",
       "      <td>Gwangju</td>\n",
       "      <td>Gwangju</td>\n",
       "      <td>KIA</td>\n",
       "      <td>0.446</td>\n",
       "      <td>KT</td>\n",
       "      <td>0.491</td>\n",
       "      <td>1</td>\n",
       "      <td>NaN</td>\n",
       "      <td>NaN</td>\n",
       "      <td>NaN</td>\n",
       "      <td>NaN</td>\n",
       "      <td>NaN</td>\n",
       "      <td>NaN</td>\n",
       "      <td>10240</td>\n",
       "    </tr>\n",
       "    <tr>\n",
       "      <th>2019-08-18</th>\n",
       "      <td>2007</td>\n",
       "      <td>Sunday</td>\n",
       "      <td>Daegu</td>\n",
       "      <td>Daegu</td>\n",
       "      <td>SAMSUNG</td>\n",
       "      <td>0.427</td>\n",
       "      <td>LG</td>\n",
       "      <td>0.536</td>\n",
       "      <td>1</td>\n",
       "      <td>NaN</td>\n",
       "      <td>NaN</td>\n",
       "      <td>NaN</td>\n",
       "      <td>NaN</td>\n",
       "      <td>NaN</td>\n",
       "      <td>NaN</td>\n",
       "      <td>9889</td>\n",
       "    </tr>\n",
       "    <tr>\n",
       "      <th>2019-08-18</th>\n",
       "      <td>2008</td>\n",
       "      <td>Sunday</td>\n",
       "      <td>Seoul</td>\n",
       "      <td>Jamsil</td>\n",
       "      <td>DOOSAN</td>\n",
       "      <td>0.593</td>\n",
       "      <td>LOTTE</td>\n",
       "      <td>0.384</td>\n",
       "      <td>1</td>\n",
       "      <td>NaN</td>\n",
       "      <td>NaN</td>\n",
       "      <td>NaN</td>\n",
       "      <td>NaN</td>\n",
       "      <td>NaN</td>\n",
       "      <td>NaN</td>\n",
       "      <td>11437</td>\n",
       "    </tr>\n",
       "    <tr>\n",
       "      <th>2019-08-18</th>\n",
       "      <td>2009</td>\n",
       "      <td>Sunday</td>\n",
       "      <td>Changwon</td>\n",
       "      <td>Changwon</td>\n",
       "      <td>NC</td>\n",
       "      <td>0.509</td>\n",
       "      <td>SK</td>\n",
       "      <td>0.649</td>\n",
       "      <td>1</td>\n",
       "      <td>NaN</td>\n",
       "      <td>NaN</td>\n",
       "      <td>NaN</td>\n",
       "      <td>NaN</td>\n",
       "      <td>NaN</td>\n",
       "      <td>NaN</td>\n",
       "      <td>8594</td>\n",
       "    </tr>\n",
       "  </tbody>\n",
       "</table>\n",
       "</div>"
      ],
      "text/plain": [
       "            game_id   weeks    region   stadium     home  home_win    away  \\\n",
       "date                                                                         \n",
       "2019-08-18     2005  Sunday     Seoul   Gocheok    NEXEN     0.578  HANHWA   \n",
       "2019-08-18     2006  Sunday   Gwangju   Gwangju      KIA     0.446      KT   \n",
       "2019-08-18     2007  Sunday     Daegu     Daegu  SAMSUNG     0.427      LG   \n",
       "2019-08-18     2008  Sunday     Seoul    Jamsil   DOOSAN     0.593   LOTTE   \n",
       "2019-08-18     2009  Sunday  Changwon  Changwon       NC     0.509      SK   \n",
       "\n",
       "            away_win  weekend_is  avg_temp  min_temp  max_temp  rainfall  \\\n",
       "date                                                                       \n",
       "2019-08-18     0.381           1       NaN       NaN       NaN       NaN   \n",
       "2019-08-18     0.491           1       NaN       NaN       NaN       NaN   \n",
       "2019-08-18     0.536           1       NaN       NaN       NaN       NaN   \n",
       "2019-08-18     0.384           1       NaN       NaN       NaN       NaN   \n",
       "2019-08-18     0.649           1       NaN       NaN       NaN       NaN   \n",
       "\n",
       "            avg_windspeed  avg_relative_humid  nb_crowd  \n",
       "date                                                     \n",
       "2019-08-18            NaN                 NaN      6148  \n",
       "2019-08-18            NaN                 NaN     10240  \n",
       "2019-08-18            NaN                 NaN      9889  \n",
       "2019-08-18            NaN                 NaN     11437  \n",
       "2019-08-18            NaN                 NaN      8594  "
      ]
     },
     "execution_count": 39,
     "metadata": {},
     "output_type": "execute_result"
    }
   ],
   "source": [
    "kbo_weather.tail()"
   ]
  },
  {
   "cell_type": "markdown",
   "metadata": {},
   "source": [
    "# Final Data Summary"
   ]
  },
  {
   "cell_type": "code",
   "execution_count": 40,
   "metadata": {
    "ExecuteTime": {
     "end_time": "2019-08-18T14:36:16.524323Z",
     "start_time": "2019-08-18T14:36:16.516334Z"
    }
   },
   "outputs": [
    {
     "name": "stdout",
     "output_type": "stream",
     "text": [
      "<class 'pandas.core.frame.DataFrame'>\n",
      "DatetimeIndex: 2013 entries, 2017-03-31 to 2019-08-18\n",
      "Data columns (total 16 columns):\n",
      "game_id               2013 non-null int32\n",
      "weeks                 2013 non-null object\n",
      "region                2013 non-null object\n",
      "stadium               2013 non-null object\n",
      "home                  2013 non-null object\n",
      "home_win              2013 non-null float64\n",
      "away                  2013 non-null object\n",
      "away_win              2013 non-null float64\n",
      "weekend_is            2013 non-null int64\n",
      "avg_temp              2008 non-null float64\n",
      "min_temp              2008 non-null float64\n",
      "max_temp              2008 non-null float64\n",
      "rainfall              2008 non-null float64\n",
      "avg_windspeed         2008 non-null float64\n",
      "avg_relative_humid    2008 non-null float64\n",
      "nb_crowd              2013 non-null int32\n",
      "dtypes: float64(8), int32(2), int64(1), object(5)\n",
      "memory usage: 291.6+ KB\n"
     ]
    }
   ],
   "source": [
    "kbo_weather.info()"
   ]
  },
  {
   "cell_type": "code",
   "execution_count": 41,
   "metadata": {
    "ExecuteTime": {
     "end_time": "2019-08-18T14:36:16.997063Z",
     "start_time": "2019-08-18T14:36:16.957158Z"
    }
   },
   "outputs": [
    {
     "data": {
      "text/html": [
       "<div>\n",
       "<style scoped>\n",
       "    .dataframe tbody tr th:only-of-type {\n",
       "        vertical-align: middle;\n",
       "    }\n",
       "\n",
       "    .dataframe tbody tr th {\n",
       "        vertical-align: top;\n",
       "    }\n",
       "\n",
       "    .dataframe thead th {\n",
       "        text-align: right;\n",
       "    }\n",
       "</style>\n",
       "<table border=\"1\" class=\"dataframe\">\n",
       "  <thead>\n",
       "    <tr style=\"text-align: right;\">\n",
       "      <th></th>\n",
       "      <th>game_id</th>\n",
       "      <th>weeks</th>\n",
       "      <th>region</th>\n",
       "      <th>stadium</th>\n",
       "      <th>home</th>\n",
       "      <th>home_win</th>\n",
       "      <th>away</th>\n",
       "      <th>away_win</th>\n",
       "      <th>weekend_is</th>\n",
       "      <th>avg_temp</th>\n",
       "      <th>min_temp</th>\n",
       "      <th>max_temp</th>\n",
       "      <th>rainfall</th>\n",
       "      <th>avg_windspeed</th>\n",
       "      <th>avg_relative_humid</th>\n",
       "      <th>nb_crowd</th>\n",
       "    </tr>\n",
       "  </thead>\n",
       "  <tbody>\n",
       "    <tr>\n",
       "      <th>count</th>\n",
       "      <td>2013.000000</td>\n",
       "      <td>2013</td>\n",
       "      <td>2013</td>\n",
       "      <td>2013</td>\n",
       "      <td>2013</td>\n",
       "      <td>2013.000000</td>\n",
       "      <td>2013</td>\n",
       "      <td>2013.000000</td>\n",
       "      <td>2013.000000</td>\n",
       "      <td>2008.000000</td>\n",
       "      <td>2008.000000</td>\n",
       "      <td>2008.000000</td>\n",
       "      <td>2008.000000</td>\n",
       "      <td>2008.000000</td>\n",
       "      <td>2008.000000</td>\n",
       "      <td>2013.000000</td>\n",
       "    </tr>\n",
       "    <tr>\n",
       "      <th>unique</th>\n",
       "      <td>NaN</td>\n",
       "      <td>7</td>\n",
       "      <td>11</td>\n",
       "      <td>13</td>\n",
       "      <td>10</td>\n",
       "      <td>NaN</td>\n",
       "      <td>10</td>\n",
       "      <td>NaN</td>\n",
       "      <td>NaN</td>\n",
       "      <td>NaN</td>\n",
       "      <td>NaN</td>\n",
       "      <td>NaN</td>\n",
       "      <td>NaN</td>\n",
       "      <td>NaN</td>\n",
       "      <td>NaN</td>\n",
       "      <td>NaN</td>\n",
       "    </tr>\n",
       "    <tr>\n",
       "      <th>top</th>\n",
       "      <td>NaN</td>\n",
       "      <td>Saturday</td>\n",
       "      <td>Seoul</td>\n",
       "      <td>Jamsil</td>\n",
       "      <td>NEXEN</td>\n",
       "      <td>NaN</td>\n",
       "      <td>KT</td>\n",
       "      <td>NaN</td>\n",
       "      <td>NaN</td>\n",
       "      <td>NaN</td>\n",
       "      <td>NaN</td>\n",
       "      <td>NaN</td>\n",
       "      <td>NaN</td>\n",
       "      <td>NaN</td>\n",
       "      <td>NaN</td>\n",
       "      <td>NaN</td>\n",
       "    </tr>\n",
       "    <tr>\n",
       "      <th>freq</th>\n",
       "      <td>NaN</td>\n",
       "      <td>352</td>\n",
       "      <td>610</td>\n",
       "      <td>402</td>\n",
       "      <td>208</td>\n",
       "      <td>NaN</td>\n",
       "      <td>208</td>\n",
       "      <td>NaN</td>\n",
       "      <td>NaN</td>\n",
       "      <td>NaN</td>\n",
       "      <td>NaN</td>\n",
       "      <td>NaN</td>\n",
       "      <td>NaN</td>\n",
       "      <td>NaN</td>\n",
       "      <td>NaN</td>\n",
       "      <td>NaN</td>\n",
       "    </tr>\n",
       "    <tr>\n",
       "      <th>mean</th>\n",
       "      <td>1005.828614</td>\n",
       "      <td>NaN</td>\n",
       "      <td>NaN</td>\n",
       "      <td>NaN</td>\n",
       "      <td>NaN</td>\n",
       "      <td>0.496307</td>\n",
       "      <td>NaN</td>\n",
       "      <td>0.496896</td>\n",
       "      <td>0.340785</td>\n",
       "      <td>20.939392</td>\n",
       "      <td>16.672311</td>\n",
       "      <td>26.048556</td>\n",
       "      <td>2.545618</td>\n",
       "      <td>2.212450</td>\n",
       "      <td>65.335259</td>\n",
       "      <td>11153.718828</td>\n",
       "    </tr>\n",
       "    <tr>\n",
       "      <th>std</th>\n",
       "      <td>579.813398</td>\n",
       "      <td>NaN</td>\n",
       "      <td>NaN</td>\n",
       "      <td>NaN</td>\n",
       "      <td>NaN</td>\n",
       "      <td>0.131746</td>\n",
       "      <td>NaN</td>\n",
       "      <td>0.132919</td>\n",
       "      <td>0.474091</td>\n",
       "      <td>5.844667</td>\n",
       "      <td>6.388724</td>\n",
       "      <td>5.845811</td>\n",
       "      <td>10.716421</td>\n",
       "      <td>0.997173</td>\n",
       "      <td>15.179793</td>\n",
       "      <td>5635.492255</td>\n",
       "    </tr>\n",
       "    <tr>\n",
       "      <th>min</th>\n",
       "      <td>1.000000</td>\n",
       "      <td>NaN</td>\n",
       "      <td>NaN</td>\n",
       "      <td>NaN</td>\n",
       "      <td>NaN</td>\n",
       "      <td>0.000000</td>\n",
       "      <td>NaN</td>\n",
       "      <td>0.000000</td>\n",
       "      <td>0.000000</td>\n",
       "      <td>3.300000</td>\n",
       "      <td>-1.100000</td>\n",
       "      <td>7.400000</td>\n",
       "      <td>0.000000</td>\n",
       "      <td>0.400000</td>\n",
       "      <td>20.500000</td>\n",
       "      <td>1158.000000</td>\n",
       "    </tr>\n",
       "    <tr>\n",
       "      <th>25%</th>\n",
       "      <td>504.000000</td>\n",
       "      <td>NaN</td>\n",
       "      <td>NaN</td>\n",
       "      <td>NaN</td>\n",
       "      <td>NaN</td>\n",
       "      <td>0.424000</td>\n",
       "      <td>NaN</td>\n",
       "      <td>0.423000</td>\n",
       "      <td>0.000000</td>\n",
       "      <td>17.200000</td>\n",
       "      <td>12.000000</td>\n",
       "      <td>22.500000</td>\n",
       "      <td>0.000000</td>\n",
       "      <td>1.500000</td>\n",
       "      <td>54.400000</td>\n",
       "      <td>7012.000000</td>\n",
       "    </tr>\n",
       "    <tr>\n",
       "      <th>50%</th>\n",
       "      <td>1007.000000</td>\n",
       "      <td>NaN</td>\n",
       "      <td>NaN</td>\n",
       "      <td>NaN</td>\n",
       "      <td>NaN</td>\n",
       "      <td>0.496000</td>\n",
       "      <td>NaN</td>\n",
       "      <td>0.495000</td>\n",
       "      <td>0.000000</td>\n",
       "      <td>21.500000</td>\n",
       "      <td>17.300000</td>\n",
       "      <td>26.600000</td>\n",
       "      <td>0.000000</td>\n",
       "      <td>2.000000</td>\n",
       "      <td>65.900000</td>\n",
       "      <td>9805.000000</td>\n",
       "    </tr>\n",
       "    <tr>\n",
       "      <th>75%</th>\n",
       "      <td>1506.000000</td>\n",
       "      <td>NaN</td>\n",
       "      <td>NaN</td>\n",
       "      <td>NaN</td>\n",
       "      <td>NaN</td>\n",
       "      <td>0.570000</td>\n",
       "      <td>NaN</td>\n",
       "      <td>0.574000</td>\n",
       "      <td>1.000000</td>\n",
       "      <td>25.000000</td>\n",
       "      <td>21.400000</td>\n",
       "      <td>29.900000</td>\n",
       "      <td>0.100000</td>\n",
       "      <td>2.600000</td>\n",
       "      <td>76.400000</td>\n",
       "      <td>14364.000000</td>\n",
       "    </tr>\n",
       "    <tr>\n",
       "      <th>max</th>\n",
       "      <td>2009.000000</td>\n",
       "      <td>NaN</td>\n",
       "      <td>NaN</td>\n",
       "      <td>NaN</td>\n",
       "      <td>NaN</td>\n",
       "      <td>1.000000</td>\n",
       "      <td>NaN</td>\n",
       "      <td>1.000000</td>\n",
       "      <td>1.000000</td>\n",
       "      <td>33.700000</td>\n",
       "      <td>30.300000</td>\n",
       "      <td>39.600000</td>\n",
       "      <td>133.500000</td>\n",
       "      <td>7.900000</td>\n",
       "      <td>99.100000</td>\n",
       "      <td>26600.000000</td>\n",
       "    </tr>\n",
       "  </tbody>\n",
       "</table>\n",
       "</div>"
      ],
      "text/plain": [
       "            game_id     weeks region stadium   home     home_win  away  \\\n",
       "count   2013.000000      2013   2013    2013   2013  2013.000000  2013   \n",
       "unique          NaN         7     11      13     10          NaN    10   \n",
       "top             NaN  Saturday  Seoul  Jamsil  NEXEN          NaN    KT   \n",
       "freq            NaN       352    610     402    208          NaN   208   \n",
       "mean    1005.828614       NaN    NaN     NaN    NaN     0.496307   NaN   \n",
       "std      579.813398       NaN    NaN     NaN    NaN     0.131746   NaN   \n",
       "min        1.000000       NaN    NaN     NaN    NaN     0.000000   NaN   \n",
       "25%      504.000000       NaN    NaN     NaN    NaN     0.424000   NaN   \n",
       "50%     1007.000000       NaN    NaN     NaN    NaN     0.496000   NaN   \n",
       "75%     1506.000000       NaN    NaN     NaN    NaN     0.570000   NaN   \n",
       "max     2009.000000       NaN    NaN     NaN    NaN     1.000000   NaN   \n",
       "\n",
       "           away_win   weekend_is     avg_temp     min_temp     max_temp  \\\n",
       "count   2013.000000  2013.000000  2008.000000  2008.000000  2008.000000   \n",
       "unique          NaN          NaN          NaN          NaN          NaN   \n",
       "top             NaN          NaN          NaN          NaN          NaN   \n",
       "freq            NaN          NaN          NaN          NaN          NaN   \n",
       "mean       0.496896     0.340785    20.939392    16.672311    26.048556   \n",
       "std        0.132919     0.474091     5.844667     6.388724     5.845811   \n",
       "min        0.000000     0.000000     3.300000    -1.100000     7.400000   \n",
       "25%        0.423000     0.000000    17.200000    12.000000    22.500000   \n",
       "50%        0.495000     0.000000    21.500000    17.300000    26.600000   \n",
       "75%        0.574000     1.000000    25.000000    21.400000    29.900000   \n",
       "max        1.000000     1.000000    33.700000    30.300000    39.600000   \n",
       "\n",
       "           rainfall  avg_windspeed  avg_relative_humid      nb_crowd  \n",
       "count   2008.000000    2008.000000         2008.000000   2013.000000  \n",
       "unique          NaN            NaN                 NaN           NaN  \n",
       "top             NaN            NaN                 NaN           NaN  \n",
       "freq            NaN            NaN                 NaN           NaN  \n",
       "mean       2.545618       2.212450           65.335259  11153.718828  \n",
       "std       10.716421       0.997173           15.179793   5635.492255  \n",
       "min        0.000000       0.400000           20.500000   1158.000000  \n",
       "25%        0.000000       1.500000           54.400000   7012.000000  \n",
       "50%        0.000000       2.000000           65.900000   9805.000000  \n",
       "75%        0.100000       2.600000           76.400000  14364.000000  \n",
       "max      133.500000       7.900000           99.100000  26600.000000  "
      ]
     },
     "execution_count": 41,
     "metadata": {},
     "output_type": "execute_result"
    }
   ],
   "source": [
    "kbo_weather.describe(include='all')"
   ]
  },
  {
   "cell_type": "code",
   "execution_count": 42,
   "metadata": {
    "ExecuteTime": {
     "end_time": "2019-08-18T14:36:19.244097Z",
     "start_time": "2019-08-18T14:36:19.207198Z"
    }
   },
   "outputs": [],
   "source": [
    "kbo_weather.to_csv('../dataset/train.csv')"
   ]
  }
 ],
 "metadata": {
  "hide_input": false,
  "kernelspec": {
   "display_name": "Python 3",
   "language": "python",
   "name": "python3"
  },
  "language_info": {
   "codemirror_mode": {
    "name": "ipython",
    "version": 3
   },
   "file_extension": ".py",
   "mimetype": "text/x-python",
   "name": "python",
   "nbconvert_exporter": "python",
   "pygments_lexer": "ipython3",
   "version": "3.7.3"
  },
  "toc": {
   "base_numbering": 1,
   "nav_menu": {},
   "number_sections": true,
   "sideBar": true,
   "skip_h1_title": false,
   "title_cell": "Table of Contents",
   "title_sidebar": "Contents",
   "toc_cell": false,
   "toc_position": {
    "height": "calc(100% - 180px)",
    "left": "10px",
    "top": "150px",
    "width": "255.382px"
   },
   "toc_section_display": true,
   "toc_window_display": false
  },
  "varInspector": {
   "cols": {
    "lenName": 16,
    "lenType": 16,
    "lenVar": 40
   },
   "kernels_config": {
    "python": {
     "delete_cmd_postfix": "",
     "delete_cmd_prefix": "del ",
     "library": "var_list.py",
     "varRefreshCmd": "print(var_dic_list())"
    },
    "r": {
     "delete_cmd_postfix": ") ",
     "delete_cmd_prefix": "rm(",
     "library": "var_list.r",
     "varRefreshCmd": "cat(var_dic_list()) "
    }
   },
   "oldHeight": 341.99678,
   "position": {
    "height": "40px",
    "left": "1050.89px",
    "right": "20px",
    "top": "127px",
    "width": "350px"
   },
   "types_to_exclude": [
    "module",
    "function",
    "builtin_function_or_method",
    "instance",
    "_Feature"
   ],
   "varInspector_section_display": "none",
   "window_display": false
  }
 },
 "nbformat": 4,
 "nbformat_minor": 2
}
